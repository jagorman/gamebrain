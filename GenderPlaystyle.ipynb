{
 "cells": [
  {
   "cell_type": "code",
   "execution_count": 271,
   "id": "annoying-investigator",
   "metadata": {},
   "outputs": [],
   "source": [
    "# Dependencies and Setup\n",
    "import matplotlib.pyplot as plt\n",
    "import pandas as pd\n",
    "#import scipy.stats as st\n",
    "import numpy as np"
   ]
  },
  {
   "cell_type": "code",
   "execution_count": 272,
   "id": "fossil-agenda",
   "metadata": {
    "scrolled": true
   },
   "outputs": [
    {
     "data": {
      "text/plain": [
       "Index(['S. No.', 'Timestamp', 'GAD1', 'GAD2', 'GAD3', 'GAD4', 'GAD5', 'GAD6',\n",
       "       'GAD7', 'GADE', 'SWL1', 'SWL2', 'SWL3', 'SWL4', 'SWL5', 'Game',\n",
       "       'Platform', 'Hours', 'earnings', 'whyplay', 'League', 'highestleague',\n",
       "       'streams', 'SPIN1', 'SPIN2', 'SPIN3', 'SPIN4', 'SPIN5', 'SPIN6',\n",
       "       'SPIN7', 'SPIN8', 'SPIN9', 'SPIN10', 'SPIN11', 'SPIN12', 'SPIN13',\n",
       "       'SPIN14', 'SPIN15', 'SPIN16', 'SPIN17', 'Narcissism', 'Gender', 'Age',\n",
       "       'Work', 'Degree', 'Birthplace', 'Residence', 'Reference', 'Playstyle',\n",
       "       'accept', 'GAD_T', 'SWL_T', 'SPIN_T', 'Residence_ISO3',\n",
       "       'Birthplace_ISO3'],\n",
       "      dtype='object')"
      ]
     },
     "execution_count": 272,
     "metadata": {},
     "output_type": "execute_result"
    }
   ],
   "source": [
    "GamingData = \"GamingStudy_Data.csv\"\n",
    "\n",
    "dataset=pd.read_csv(GamingData, encoding=\"ISO-8859-1\")\n",
    "\n",
    "dataset.columns\n",
    "\n"
   ]
  },
  {
   "cell_type": "code",
   "execution_count": 280,
   "id": "impressed-startup",
   "metadata": {},
   "outputs": [
    {
     "data": {
      "text/plain": [
       "Residence  \n",
       "USA            4569\n",
       "Germany        1413\n",
       "UK             1032\n",
       "Canada          994\n",
       "Netherlands     506\n",
       "France          391\n",
       "dtype: int64"
      ]
     },
     "execution_count": 280,
     "metadata": {},
     "output_type": "execute_result"
    }
   ],
   "source": [
    "Residents=dataset[[\"Residence\"]]\n",
    "Residents\n",
    "\n",
    "topsixco=Residents.value_counts().nlargest(6)\n",
    "topsixco"
   ]
  },
  {
   "cell_type": "code",
   "execution_count": 273,
   "id": "oriented-belief",
   "metadata": {
    "scrolled": true
   },
   "outputs": [
    {
     "data": {
      "text/html": [
       "<div>\n",
       "<style scoped>\n",
       "    .dataframe tbody tr th:only-of-type {\n",
       "        vertical-align: middle;\n",
       "    }\n",
       "\n",
       "    .dataframe tbody tr th {\n",
       "        vertical-align: top;\n",
       "    }\n",
       "\n",
       "    .dataframe thead th {\n",
       "        text-align: right;\n",
       "    }\n",
       "</style>\n",
       "<table border=\"1\" class=\"dataframe\">\n",
       "  <thead>\n",
       "    <tr style=\"text-align: right;\">\n",
       "      <th></th>\n",
       "      <th>Gender</th>\n",
       "      <th>Residence</th>\n",
       "      <th>Playstyle</th>\n",
       "    </tr>\n",
       "  </thead>\n",
       "  <tbody>\n",
       "    <tr>\n",
       "      <th>0</th>\n",
       "      <td>Male</td>\n",
       "      <td>USA</td>\n",
       "      <td>Singleplayer</td>\n",
       "    </tr>\n",
       "    <tr>\n",
       "      <th>1</th>\n",
       "      <td>Male</td>\n",
       "      <td>USA</td>\n",
       "      <td>Multiplayer - online - with strangers</td>\n",
       "    </tr>\n",
       "    <tr>\n",
       "      <th>2</th>\n",
       "      <td>Female</td>\n",
       "      <td>Germany</td>\n",
       "      <td>Singleplayer</td>\n",
       "    </tr>\n",
       "    <tr>\n",
       "      <th>3</th>\n",
       "      <td>Male</td>\n",
       "      <td>USA</td>\n",
       "      <td>Multiplayer - online - with online acquaintanc...</td>\n",
       "    </tr>\n",
       "    <tr>\n",
       "      <th>5</th>\n",
       "      <td>Male</td>\n",
       "      <td>USA</td>\n",
       "      <td>Multiplayer - online - with real life friends</td>\n",
       "    </tr>\n",
       "    <tr>\n",
       "      <th>...</th>\n",
       "      <td>...</td>\n",
       "      <td>...</td>\n",
       "      <td>...</td>\n",
       "    </tr>\n",
       "    <tr>\n",
       "      <th>13458</th>\n",
       "      <td>Male</td>\n",
       "      <td>USA</td>\n",
       "      <td>Multiplayer - online - with online acquaintanc...</td>\n",
       "    </tr>\n",
       "    <tr>\n",
       "      <th>13459</th>\n",
       "      <td>Male</td>\n",
       "      <td>France</td>\n",
       "      <td>Multiplayer - online - with strangers</td>\n",
       "    </tr>\n",
       "    <tr>\n",
       "      <th>13460</th>\n",
       "      <td>Female</td>\n",
       "      <td>USA</td>\n",
       "      <td>Multiplayer - online - with strangers</td>\n",
       "    </tr>\n",
       "    <tr>\n",
       "      <th>13462</th>\n",
       "      <td>Female</td>\n",
       "      <td>Canada</td>\n",
       "      <td>Singleplayer</td>\n",
       "    </tr>\n",
       "    <tr>\n",
       "      <th>13463</th>\n",
       "      <td>Male</td>\n",
       "      <td>Canada</td>\n",
       "      <td>Multiplayer - online - with strangers</td>\n",
       "    </tr>\n",
       "  </tbody>\n",
       "</table>\n",
       "<p>8905 rows × 3 columns</p>\n",
       "</div>"
      ],
      "text/plain": [
       "       Gender Residence                                          Playstyle\n",
       "0        Male       USA                                       Singleplayer\n",
       "1        Male       USA              Multiplayer - online - with strangers\n",
       "2      Female   Germany                                       Singleplayer\n",
       "3        Male       USA  Multiplayer - online - with online acquaintanc...\n",
       "5        Male       USA      Multiplayer - online - with real life friends\n",
       "...       ...       ...                                                ...\n",
       "13458    Male       USA  Multiplayer - online - with online acquaintanc...\n",
       "13459    Male    France              Multiplayer - online - with strangers\n",
       "13460  Female       USA              Multiplayer - online - with strangers\n",
       "13462  Female    Canada                                       Singleplayer\n",
       "13463    Male    Canada              Multiplayer - online - with strangers\n",
       "\n",
       "[8905 rows x 3 columns]"
      ]
     },
     "execution_count": 273,
     "metadata": {},
     "output_type": "execute_result"
    }
   ],
   "source": [
    "\n",
    "ply_gen_res = dataset[[\"Gender\", \"Residence\", \"Playstyle\"]]\n",
    "top_six = ply_gen_res[ply_gen_res[\"Residence\"].isin([\"USA\", \"Germany\", \"UK\", \"Canada\", \"Netherlands\", \"France\"])]\n",
    "male = top_six[top_six[\"Gender\"].isin([\"Male\"])]\n",
    "female = top_six[top_six[\"Gender\"].isin([\"Female\"])]\n",
    "other = top_six[top_six[\"Gender\"].isin([\"Other\"])]\n",
    "\n",
    "top_six\n"
   ]
  },
  {
   "cell_type": "code",
   "execution_count": 274,
   "id": "broadband-portugal",
   "metadata": {},
   "outputs": [
    {
     "data": {
      "text/html": [
       "<div>\n",
       "<style scoped>\n",
       "    .dataframe tbody tr th:only-of-type {\n",
       "        vertical-align: middle;\n",
       "    }\n",
       "\n",
       "    .dataframe tbody tr th {\n",
       "        vertical-align: top;\n",
       "    }\n",
       "\n",
       "    .dataframe thead th {\n",
       "        text-align: right;\n",
       "    }\n",
       "</style>\n",
       "<table border=\"1\" class=\"dataframe\">\n",
       "  <thead>\n",
       "    <tr style=\"text-align: right;\">\n",
       "      <th></th>\n",
       "      <th>Gender</th>\n",
       "      <th>Count</th>\n",
       "      <th>GAD %</th>\n",
       "      <th>SWL %</th>\n",
       "      <th>SPIN %</th>\n",
       "    </tr>\n",
       "  </thead>\n",
       "  <tbody>\n",
       "    <tr>\n",
       "      <th>0</th>\n",
       "      <td>Male</td>\n",
       "      <td>12699</td>\n",
       "      <td>16.42</td>\n",
       "      <td>47.78</td>\n",
       "      <td>40.05</td>\n",
       "    </tr>\n",
       "    <tr>\n",
       "      <th>1</th>\n",
       "      <td>Female</td>\n",
       "      <td>713</td>\n",
       "      <td>34.08</td>\n",
       "      <td>53.16</td>\n",
       "      <td>64.10</td>\n",
       "    </tr>\n",
       "    <tr>\n",
       "      <th>2</th>\n",
       "      <td>Other</td>\n",
       "      <td>52</td>\n",
       "      <td>46.15</td>\n",
       "      <td>71.15</td>\n",
       "      <td>63.46</td>\n",
       "    </tr>\n",
       "  </tbody>\n",
       "</table>\n",
       "</div>"
      ],
      "text/plain": [
       "   Gender  Count  GAD %  SWL %  SPIN %\n",
       "0    Male  12699  16.42  47.78   40.05\n",
       "1  Female    713  34.08  53.16   64.10\n",
       "2   Other     52  46.15  71.15   63.46"
      ]
     },
     "execution_count": 274,
     "metadata": {},
     "output_type": "execute_result"
    }
   ],
   "source": [
    "breakdown = [[\"Male\", totalMaleCount, mG_Percent, mSW_Percent, mSP_Percent], [\"Female\", totalFemaleCount, fG_Percent, fSW_Percent, fSP_Percent], [\"Other\", totalOtherCount, oG_Percent, oSW_Percent, oSP_Percent]]\n",
    "columns = ['Gender', 'Count', 'GAD %', 'SWL %', 'SPIN %']\n",
    "display_df = pd.DataFrame(breakdown, columns = columns)\n",
    "display_df"
   ]
  },
  {
   "cell_type": "code",
   "execution_count": 275,
   "id": "checked-popularity",
   "metadata": {},
   "outputs": [
    {
     "data": {
      "text/plain": [
       "<AxesSubplot:ylabel='Gender'>"
      ]
     },
     "execution_count": 275,
     "metadata": {},
     "output_type": "execute_result"
    },
    {
     "data": {
      "image/png": "[encoded data removed]",
      "text/plain": [
       "<Figure size 360x360 with 1 Axes>"
      ]
     },
     "metadata": {},
     "output_type": "display_data"
    }
   ],
   "source": [
    "totalCount = len(gender['Gender'])\n",
    "totalGenderCount = gender['Gender'].value_counts()\n",
    "totalMaleCount = len(gender.loc[gender['Gender'] == \"Male\"])\n",
    "totalFemaleCount = len(gender.loc[gender['Gender'] == \"Female\"])\n",
    "totalOtherCount = len(gender.loc[gender['Gender'] == \"Other\"])\n",
    "\n",
    "male = gender.loc[gender['Gender'] == \"Male\"]\n",
    "female = gender.loc[gender['Gender'] == \"Female\"]\n",
    "other = gender.loc[gender['Gender'] == \"Other\"]\n",
    "\n",
    "gender_count=gender[\"Gender\"].value_counts()\n",
    "gender_count.plot(kind= \"pie\",figsize=(5,5))"
   ]
  },
  {
   "cell_type": "code",
   "execution_count": 276,
   "id": "weird-notice",
   "metadata": {},
   "outputs": [
    {
     "data": {
      "text/html": [
       "<div>\n",
       "<style scoped>\n",
       "    .dataframe tbody tr th:only-of-type {\n",
       "        vertical-align: middle;\n",
       "    }\n",
       "\n",
       "    .dataframe tbody tr th {\n",
       "        vertical-align: top;\n",
       "    }\n",
       "\n",
       "    .dataframe thead th {\n",
       "        text-align: right;\n",
       "    }\n",
       "</style>\n",
       "<table border=\"1\" class=\"dataframe\">\n",
       "  <thead>\n",
       "    <tr style=\"text-align: right;\">\n",
       "      <th></th>\n",
       "      <th>Gender</th>\n",
       "      <th>Residence</th>\n",
       "      <th>GAD_T</th>\n",
       "      <th>SWL_T</th>\n",
       "      <th>SPIN_T</th>\n",
       "      <th>Playstyle</th>\n",
       "    </tr>\n",
       "  </thead>\n",
       "  <tbody>\n",
       "    <tr>\n",
       "      <th>0</th>\n",
       "      <td>Male</td>\n",
       "      <td>USA</td>\n",
       "      <td>1</td>\n",
       "      <td>23</td>\n",
       "      <td>5.0</td>\n",
       "      <td>Singleplayer</td>\n",
       "    </tr>\n",
       "    <tr>\n",
       "      <th>1</th>\n",
       "      <td>Male</td>\n",
       "      <td>USA</td>\n",
       "      <td>8</td>\n",
       "      <td>16</td>\n",
       "      <td>33.0</td>\n",
       "      <td>Multiplayer - online - with strangers</td>\n",
       "    </tr>\n",
       "    <tr>\n",
       "      <th>2</th>\n",
       "      <td>Female</td>\n",
       "      <td>Germany</td>\n",
       "      <td>8</td>\n",
       "      <td>17</td>\n",
       "      <td>31.0</td>\n",
       "      <td>Singleplayer</td>\n",
       "    </tr>\n",
       "    <tr>\n",
       "      <th>3</th>\n",
       "      <td>Male</td>\n",
       "      <td>USA</td>\n",
       "      <td>0</td>\n",
       "      <td>17</td>\n",
       "      <td>11.0</td>\n",
       "      <td>Multiplayer - online - with online acquaintanc...</td>\n",
       "    </tr>\n",
       "    <tr>\n",
       "      <th>5</th>\n",
       "      <td>Male</td>\n",
       "      <td>USA</td>\n",
       "      <td>1</td>\n",
       "      <td>17</td>\n",
       "      <td>13.0</td>\n",
       "      <td>Multiplayer - online - with real life friends</td>\n",
       "    </tr>\n",
       "    <tr>\n",
       "      <th>...</th>\n",
       "      <td>...</td>\n",
       "      <td>...</td>\n",
       "      <td>...</td>\n",
       "      <td>...</td>\n",
       "      <td>...</td>\n",
       "      <td>...</td>\n",
       "    </tr>\n",
       "    <tr>\n",
       "      <th>13458</th>\n",
       "      <td>Male</td>\n",
       "      <td>USA</td>\n",
       "      <td>6</td>\n",
       "      <td>16</td>\n",
       "      <td>12.0</td>\n",
       "      <td>Multiplayer - online - with online acquaintanc...</td>\n",
       "    </tr>\n",
       "    <tr>\n",
       "      <th>13459</th>\n",
       "      <td>Male</td>\n",
       "      <td>France</td>\n",
       "      <td>4</td>\n",
       "      <td>28</td>\n",
       "      <td>7.0</td>\n",
       "      <td>Multiplayer - online - with strangers</td>\n",
       "    </tr>\n",
       "    <tr>\n",
       "      <th>13460</th>\n",
       "      <td>Female</td>\n",
       "      <td>USA</td>\n",
       "      <td>20</td>\n",
       "      <td>23</td>\n",
       "      <td>25.0</td>\n",
       "      <td>Multiplayer - online - with strangers</td>\n",
       "    </tr>\n",
       "    <tr>\n",
       "      <th>13462</th>\n",
       "      <td>Female</td>\n",
       "      <td>Canada</td>\n",
       "      <td>13</td>\n",
       "      <td>16</td>\n",
       "      <td>32.0</td>\n",
       "      <td>Singleplayer</td>\n",
       "    </tr>\n",
       "    <tr>\n",
       "      <th>13463</th>\n",
       "      <td>Male</td>\n",
       "      <td>Canada</td>\n",
       "      <td>2</td>\n",
       "      <td>25</td>\n",
       "      <td>14.0</td>\n",
       "      <td>Multiplayer - online - with strangers</td>\n",
       "    </tr>\n",
       "  </tbody>\n",
       "</table>\n",
       "<p>8905 rows × 6 columns</p>\n",
       "</div>"
      ],
      "text/plain": [
       "       Gender Residence  GAD_T  SWL_T  SPIN_T  \\\n",
       "0        Male       USA      1     23     5.0   \n",
       "1        Male       USA      8     16    33.0   \n",
       "2      Female   Germany      8     17    31.0   \n",
       "3        Male       USA      0     17    11.0   \n",
       "5        Male       USA      1     17    13.0   \n",
       "...       ...       ...    ...    ...     ...   \n",
       "13458    Male       USA      6     16    12.0   \n",
       "13459    Male    France      4     28     7.0   \n",
       "13460  Female       USA     20     23    25.0   \n",
       "13462  Female    Canada     13     16    32.0   \n",
       "13463    Male    Canada      2     25    14.0   \n",
       "\n",
       "                                               Playstyle  \n",
       "0                                           Singleplayer  \n",
       "1                  Multiplayer - online - with strangers  \n",
       "2                                           Singleplayer  \n",
       "3      Multiplayer - online - with online acquaintanc...  \n",
       "5          Multiplayer - online - with real life friends  \n",
       "...                                                  ...  \n",
       "13458  Multiplayer - online - with online acquaintanc...  \n",
       "13459              Multiplayer - online - with strangers  \n",
       "13460              Multiplayer - online - with strangers  \n",
       "13462                                       Singleplayer  \n",
       "13463              Multiplayer - online - with strangers  \n",
       "\n",
       "[8905 rows x 6 columns]"
      ]
     },
     "execution_count": 276,
     "metadata": {},
     "output_type": "execute_result"
    }
   ],
   "source": [
    "ply_gen_res = dataset[[\"Gender\", \"Residence\", \"GAD_T\", \"SWL_T\", \"SPIN_T\", \"Playstyle\"]]\n",
    "top_six = ply_gen_res[ply_gen_res[\"Residence\"].isin([\"USA\", \"Germany\", \"UK\", \"Canada\", \"Netherlands\", \"France\"])]\n",
    "top_six"
   ]
  },
  {
   "cell_type": "code",
   "execution_count": 277,
   "id": "turkish-ending",
   "metadata": {},
   "outputs": [],
   "source": [
    "playstyle= dataset[\"Playstyle\"].str.lower().str.rstrip(' ')\n",
    "\n",
    "playstyle_series=pd.value_counts(playstyle)\n",
    "playstyle_mask=(playstyle_series/playstyle_series.sum()*100).lt(.05)\n",
    "\n",
    "playstyle_total=playstyle_series[~playstyle_mask]\n",
    "playstyle_total['other']=playstyle_series[playstyle_mask].sum()\n"
   ]
  },
  {
   "cell_type": "code",
   "execution_count": 278,
   "id": "spanish-frederick",
   "metadata": {},
   "outputs": [
    {
     "data": {
      "text/plain": [
       "<AxesSubplot:ylabel='Playstyle'>"
      ]
     },
     "execution_count": 278,
     "metadata": {},
     "output_type": "execute_result"
    },
    {
     "data": {
      "image/png": "[encoded data removed]",
      "text/plain": [
       "<Figure size 1440x720 with 1 Axes>"
      ]
     },
     "metadata": {},
     "output_type": "display_data"
    }
   ],
   "source": [
    "playstyle_total.plot(kind = \"pie\",figsize=(20,10))\n"
   ]
  },
  {
   "cell_type": "code",
   "execution_count": 291,
   "id": "spread-sacramento",
   "metadata": {
    "scrolled": false
   },
   "outputs": [
    {
     "data": {
      "text/plain": [
       "<AxesSubplot:ylabel='Playstyle'>"
      ]
     },
     "execution_count": 291,
     "metadata": {},
     "output_type": "execute_result"
    },
    {
     "data": {
      "image/png": "[encoded data removed]",
      "text/plain": [
       "<Figure size 432x288 with 1 Axes>"
      ]
     },
     "metadata": {},
     "output_type": "display_data"
    }
   ],
   "source": [
    "female_playstyle= female[\"Playstyle\"].str.lower().str.rstrip(' ')\n",
    "type(female_playstyle)\n",
    "\n",
    "female_playstyle_count=pd.value_counts(female_playstyle)\n",
    "female_playstyle_mask=(female_playstyle_count/female_playstyle_count.sum()*100).lt(.25)\n",
    "#female_playstyle_mask\n",
    "#female_playstyle_count\n",
    "\n",
    "female_playstyle_total=female_playstyle_count[~female_playstyle_mask]\n",
    "female_playstyle_total['other']=female_playstyle_count[female_playstyle_mask].sum()\n",
    "female_playstyle_total.plot.pie()"
   ]
  },
  {
   "cell_type": "code",
   "execution_count": 292,
   "id": "dominant-alloy",
   "metadata": {},
   "outputs": [
    {
     "data": {
      "text/plain": [
       "<AxesSubplot:ylabel='Playstyle'>"
      ]
     },
     "execution_count": 292,
     "metadata": {},
     "output_type": "execute_result"
    },
    {
     "data": {
      "image/png": "[encoded data removed]",
      "text/plain": [
       "<Figure size 432x288 with 1 Axes>"
      ]
     },
     "metadata": {},
     "output_type": "display_data"
    }
   ],
   "source": [
    "male_playstyle= male[\"Playstyle\"].str.lower().str.rstrip(' ')\n",
    "type(male_playstyle)\n",
    "\n",
    "male_playstyle_count=pd.value_counts(male_playstyle)\n",
    "male_playstyle_mask=(male_playstyle_count/male_playstyle_count.sum()*100).lt(.05)\n",
    "male_playstyle_total=male_playstyle_count[~male_playstyle_mask]\n",
    "male_playstyle_total['other']=male_playstyle_count[male_playstyle_mask].sum()\n",
    "male_playstyle_total.plot.pie()"
   ]
  },
  {
   "cell_type": "code",
   "execution_count": 293,
   "id": "copyrighted-spanish",
   "metadata": {},
   "outputs": [
    {
     "data": {
      "text/plain": [
       "<AxesSubplot:ylabel='Playstyle'>"
      ]
     },
     "execution_count": 293,
     "metadata": {},
     "output_type": "execute_result"
    },
    {
     "data": {
      "image/png": "[encoded data removed]",
      "text/plain": [
       "<Figure size 432x288 with 1 Axes>"
      ]
     },
     "metadata": {},
     "output_type": "display_data"
    }
   ],
   "source": [
    "other_playstyle= other[\"Playstyle\"].str.lower().str.rstrip(' ')\n",
    "other_playstyle_count=pd.value_counts(other_playstyle)\n",
    "other_playstyle_mask=(other_playstyle_count/other_playstyle_count.sum()*100).lt(.15)\n",
    "\n",
    "other_playstyle_total=other_playstyle_count[~other_playstyle_mask]\n",
    "other_playstyle_total['other']=other_playstyle_count[other_playstyle_mask].sum()\n",
    "other_playstyle_total.plot.pie()"
   ]
  },
  {
   "cell_type": "code",
   "execution_count": 294,
   "id": "thick-proportion",
   "metadata": {},
   "outputs": [
    {
     "data": {
      "text/plain": [
       "<AxesSubplot:ylabel='Playstyle'>"
      ]
     },
     "execution_count": 294,
     "metadata": {},
     "output_type": "execute_result"
    },
    {
     "data": {
      "image/png": "[encoded data removed]",
      "text/plain": [
       "<Figure size 432x288 with 1 Axes>"
      ]
     },
     "metadata": {},
     "output_type": "display_data"
    }
   ],
   "source": [
    "other_playstyle= other[\"Playstyle\"].str.lower().str.rstrip(' ')\n",
    "other_playstyle_count=pd.value_counts(other_playstyle)\n",
    "other_playstyle_mask=(other_playstyle_count/other_playstyle_count.sum()*100).lt(.15)\n",
    "\n",
    "other_playstyle_total=other_playstyle_count[~other_playstyle_mask]\n",
    "other_playstyle_total['other']=other_playstyle_count[other_playstyle_mask].sum()\n",
    "other_playstyle_total.plot.pie()"
   ]
  },
  {
   "cell_type": "code",
   "execution_count": null,
   "id": "fitted-logging",
   "metadata": {},
   "outputs": [],
   "source": []
  },
  {
   "cell_type": "code",
   "execution_count": null,
   "id": "apparent-belly",
   "metadata": {
    "scrolled": true
   },
   "outputs": [],
   "source": []
  },
  {
   "cell_type": "code",
   "execution_count": null,
   "id": "backed-minnesota",
   "metadata": {},
   "outputs": [],
   "source": [
    "\n",
    "\n",
    "\n"
   ]
  },
  {
   "cell_type": "code",
   "execution_count": null,
   "id": "nearby-tender",
   "metadata": {},
   "outputs": [],
   "source": [
    "\n",
    "\n",
    "\n",
    "\n"
   ]
  },
  {
   "cell_type": "code",
   "execution_count": null,
   "id": "legal-playing",
   "metadata": {},
   "outputs": [],
   "source": []
  },
  {
   "cell_type": "code",
   "execution_count": null,
   "id": "associate-schema",
   "metadata": {},
   "outputs": [],
   "source": [
    "\n"
   ]
  },
  {
   "cell_type": "code",
   "execution_count": null,
   "id": "angry-monitoring",
   "metadata": {
    "scrolled": false
   },
   "outputs": [],
   "source": []
  },
  {
   "cell_type": "code",
   "execution_count": null,
   "id": "experienced-nickname",
   "metadata": {},
   "outputs": [],
   "source": []
  },
  {
   "cell_type": "code",
   "execution_count": null,
   "id": "interested-duncan",
   "metadata": {},
   "outputs": [],
   "source": []
  },
  {
   "cell_type": "code",
   "execution_count": null,
   "id": "maritime-villa",
   "metadata": {},
   "outputs": [],
   "source": [
    "\n"
   ]
  },
  {
   "cell_type": "code",
   "execution_count": null,
   "id": "systematic-elevation",
   "metadata": {},
   "outputs": [],
   "source": []
  },
  {
   "cell_type": "code",
   "execution_count": null,
   "id": "proud-elite",
   "metadata": {},
   "outputs": [],
   "source": []
  },
  {
   "cell_type": "code",
   "execution_count": null,
   "id": "worth-evolution",
   "metadata": {},
   "outputs": [],
   "source": []
  }
 ],
 "metadata": {
  "celltoolbar": "Tags",
  "kernelspec": {
   "display_name": "Python 3",
   "language": "python",
   "name": "python3"
  },
  "language_info": {
   "codemirror_mode": {
    "name": "ipython",
    "version": 3
   },
   "file_extension": ".py",
   "mimetype": "text/x-python",
   "name": "python",
   "nbconvert_exporter": "python",
   "pygments_lexer": "ipython3",
   "version": "3.6.12"
  }
 },
 "nbformat": 4,
 "nbformat_minor": 5
}
