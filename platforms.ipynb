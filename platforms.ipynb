{
 "cells": [
  {
   "cell_type": "code",
   "execution_count": 45,
   "metadata": {},
   "outputs": [
    {
     "data": {
      "text/html": [
       "<div>\n",
       "<style scoped>\n",
       "    .dataframe tbody tr th:only-of-type {\n",
       "        vertical-align: middle;\n",
       "    }\n",
       "\n",
       "    .dataframe tbody tr th {\n",
       "        vertical-align: top;\n",
       "    }\n",
       "\n",
       "    .dataframe thead th {\n",
       "        text-align: right;\n",
       "    }\n",
       "</style>\n",
       "<table border=\"1\" class=\"dataframe\">\n",
       "  <thead>\n",
       "    <tr style=\"text-align: right;\">\n",
       "      <th></th>\n",
       "      <th>Narcissism</th>\n",
       "      <th>GAD_T</th>\n",
       "      <th>SWL_T</th>\n",
       "      <th>SPIN_T</th>\n",
       "    </tr>\n",
       "  </thead>\n",
       "  <tbody>\n",
       "    <tr>\n",
       "      <th>1</th>\n",
       "      <td>1.0</td>\n",
       "      <td>8</td>\n",
       "      <td>16</td>\n",
       "      <td>33.0</td>\n",
       "    </tr>\n",
       "    <tr>\n",
       "      <th>3</th>\n",
       "      <td>2.0</td>\n",
       "      <td>0</td>\n",
       "      <td>17</td>\n",
       "      <td>11.0</td>\n",
       "    </tr>\n",
       "    <tr>\n",
       "      <th>6</th>\n",
       "      <td>2.0</td>\n",
       "      <td>0</td>\n",
       "      <td>16</td>\n",
       "      <td>26.0</td>\n",
       "    </tr>\n",
       "    <tr>\n",
       "      <th>10</th>\n",
       "      <td>1.0</td>\n",
       "      <td>19</td>\n",
       "      <td>27</td>\n",
       "      <td>6.0</td>\n",
       "    </tr>\n",
       "    <tr>\n",
       "      <th>11</th>\n",
       "      <td>1.0</td>\n",
       "      <td>0</td>\n",
       "      <td>33</td>\n",
       "      <td>3.0</td>\n",
       "    </tr>\n",
       "    <tr>\n",
       "      <th>...</th>\n",
       "      <td>...</td>\n",
       "      <td>...</td>\n",
       "      <td>...</td>\n",
       "      <td>...</td>\n",
       "    </tr>\n",
       "    <tr>\n",
       "      <th>13445</th>\n",
       "      <td>1.0</td>\n",
       "      <td>11</td>\n",
       "      <td>28</td>\n",
       "      <td>13.0</td>\n",
       "    </tr>\n",
       "    <tr>\n",
       "      <th>13451</th>\n",
       "      <td>2.0</td>\n",
       "      <td>2</td>\n",
       "      <td>27</td>\n",
       "      <td>33.0</td>\n",
       "    </tr>\n",
       "    <tr>\n",
       "      <th>13452</th>\n",
       "      <td>1.0</td>\n",
       "      <td>2</td>\n",
       "      <td>17</td>\n",
       "      <td>23.0</td>\n",
       "    </tr>\n",
       "    <tr>\n",
       "      <th>13458</th>\n",
       "      <td>2.0</td>\n",
       "      <td>6</td>\n",
       "      <td>16</td>\n",
       "      <td>12.0</td>\n",
       "    </tr>\n",
       "    <tr>\n",
       "      <th>13460</th>\n",
       "      <td>2.0</td>\n",
       "      <td>20</td>\n",
       "      <td>23</td>\n",
       "      <td>25.0</td>\n",
       "    </tr>\n",
       "  </tbody>\n",
       "</table>\n",
       "<p>4453 rows × 4 columns</p>\n",
       "</div>"
      ],
      "text/plain": [
       "       Narcissism  GAD_T  SWL_T  SPIN_T\n",
       "1             1.0      8     16    33.0\n",
       "3             2.0      0     17    11.0\n",
       "6             2.0      0     16    26.0\n",
       "10            1.0     19     27     6.0\n",
       "11            1.0      0     33     3.0\n",
       "...           ...    ...    ...     ...\n",
       "13445         1.0     11     28    13.0\n",
       "13451         2.0      2     27    33.0\n",
       "13452         1.0      2     17    23.0\n",
       "13458         2.0      6     16    12.0\n",
       "13460         2.0     20     23    25.0\n",
       "\n",
       "[4453 rows x 4 columns]"
      ]
     },
     "execution_count": 45,
     "metadata": {},
     "output_type": "execute_result"
    }
   ],
   "source": [
    "import matplotlib.pyplot as plt\n",
    "import pandas as pd\n",
    "import numpy as np\n",
    "import requests\n",
    "import time\n",
    "from scipy.stats import linregress\n",
    "\n",
    "csv = \"GamingStudy_data.csv\"\n",
    "\n",
    "# Read School and Student Data File and store into Pandas DataFrames\n",
    "df = pd.read_csv(csv, encoding=\"ISO-8859-1\")\n",
    "\n",
    "ds.head()\n",
    "#NEED, PLATFORM, RESIDENCE, GAD_T, SWL_T, SPIN_T\n",
    "platform_df = df.drop([\"S. No.\", \"Timestamp\", \"GAD1\", \"GAD2\", \"GAD3\", \"GAD5\", \"GAD6\", \"GAD7\", \"GAD4\", \"GADE\", \"SWL1\", \"SWL2\", \"SWL3\", \"SWL4\", \"SWL5\", \"Game\", \"Hours\", \"earnings\", \"whyplay\", \"League\", \"highestleague\", \"Birthplace\", \"Reference\", \"streams\", \"SPIN1\", \"SPIN2\", \"SPIN3\", \"SPIN4\", \"SPIN5\", \"SPIN6\", \"SPIN7\", \"SPIN8\", \"SPIN9\", \"SPIN10\", \"SPIN11\", \"SPIN12\", \"SPIN13\", \"SPIN14\", \"SPIN15\", \"SPIN16\", \"SPIN17\", \"Gender\", \"Age\", \"Work\", \"Degree\", \"Playstyle\", \"accept\", \"Residence_ISO3\", \"Birthplace_ISO3\"], axis = 1)\n",
    "\n",
    "platform_df = platform_df.loc[platform_df['Residence'] == \"USA\", :]\n",
    "platform_df = platform_df.drop(\"Residence\", axis = 1)\n",
    "\n",
    "# platform_df = platform_df.groupby(\"Platform\").mean()\n",
    "# cap_ds = greatest_timepoint_tumor[greatest_timepoint_tumor[\"Drug Regimen\"] == \"Capomulin\"][\"Tumor Volume (mm3)\"]\n",
    "# \n",
    "pc_df = platform_df[platform_df[\"Platform\"] == \"PC\"]\n",
    "console_df = platform_df[platform_df[\"Platform\"] == \"Console (PS, Xbox, ...)\"]\n",
    "tablet_df = platform_df[platform_df[\"Platform\"] == \"Smartphone / Tablet\"]\n",
    "pc_df = pc_df.drop(\"Platform\", axis = 1)\n",
    "console_df = console_df.drop(\"Platform\", axis = 1)\n",
    "tablet_df = tablet_df.drop(\"Platform\", axis = 1)\n",
    "platform_df.groupby(\"Platform\").mean()\n",
    "pc_df"
   ]
  },
  {
   "cell_type": "code",
   "execution_count": 50,
   "metadata": {},
   "outputs": [],
   "source": [
    "platform_mean_df = platform_df.groupby(\"Platform\").mean()"
   ]
  },
  {
   "cell_type": "code",
   "execution_count": 51,
   "metadata": {},
   "outputs": [
    {
     "data": {
      "text/plain": [
       "<AxesSubplot:xlabel='Platform'>"
      ]
     },
     "execution_count": 51,
     "metadata": {},
     "output_type": "execute_result"
    },
    {
     "data": {
      "image/png": "[encoded data removed]",
      "text/plain": [
       "<Figure size 432x288 with 1 Axes>"
      ]
     },
     "metadata": {
      "needs_background": "light"
     },
     "output_type": "display_data"
    }
   ],
   "source": [
    "platform_mean_df.plot(kind = \"bar\")"
   ]
  },
  {
   "cell_type": "code",
   "execution_count": null,
   "metadata": {},
   "outputs": [],
   "source": []
  },
  {
   "cell_type": "code",
   "execution_count": 56,
   "metadata": {},
   "outputs": [
    {
     "data": {
      "text/html": [
       "<div>\n",
       "<style scoped>\n",
       "    .dataframe tbody tr th:only-of-type {\n",
       "        vertical-align: middle;\n",
       "    }\n",
       "\n",
       "    .dataframe tbody tr th {\n",
       "        vertical-align: top;\n",
       "    }\n",
       "\n",
       "    .dataframe thead th {\n",
       "        text-align: right;\n",
       "    }\n",
       "</style>\n",
       "<table border=\"1\" class=\"dataframe\">\n",
       "  <thead>\n",
       "    <tr style=\"text-align: right;\">\n",
       "      <th></th>\n",
       "      <th>Narcissism</th>\n",
       "      <th>GAD_T</th>\n",
       "      <th>SWL_T</th>\n",
       "      <th>SPIN_T</th>\n",
       "    </tr>\n",
       "    <tr>\n",
       "      <th>Platform</th>\n",
       "      <th></th>\n",
       "      <th></th>\n",
       "      <th></th>\n",
       "      <th></th>\n",
       "    </tr>\n",
       "  </thead>\n",
       "  <tbody>\n",
       "    <tr>\n",
       "      <th>Console (PS, Xbox, ...)</th>\n",
       "      <td>1.925234</td>\n",
       "      <td>5.364486</td>\n",
       "      <td>20.411215</td>\n",
       "      <td>20.490196</td>\n",
       "    </tr>\n",
       "    <tr>\n",
       "      <th>PC</th>\n",
       "      <td>1.982243</td>\n",
       "      <td>5.329665</td>\n",
       "      <td>20.214238</td>\n",
       "      <td>19.795215</td>\n",
       "    </tr>\n",
       "    <tr>\n",
       "      <th>Smartphone / Tablet</th>\n",
       "      <td>2.333333</td>\n",
       "      <td>8.000000</td>\n",
       "      <td>21.222222</td>\n",
       "      <td>22.625000</td>\n",
       "    </tr>\n",
       "  </tbody>\n",
       "</table>\n",
       "</div>"
      ],
      "text/plain": [
       "                         Narcissism     GAD_T      SWL_T     SPIN_T\n",
       "Platform                                                           \n",
       "Console (PS, Xbox, ...)    1.925234  5.364486  20.411215  20.490196\n",
       "PC                         1.982243  5.329665  20.214238  19.795215\n",
       "Smartphone / Tablet        2.333333  8.000000  21.222222  22.625000"
      ]
     },
     "execution_count": 56,
     "metadata": {},
     "output_type": "execute_result"
    }
   ],
   "source": [
    "platform_mean_df"
   ]
  },
  {
   "cell_type": "code",
   "execution_count": 66,
   "metadata": {},
   "outputs": [
    {
     "data": {
      "text/plain": [
       "Text(0.5, 1.0, 'GAD_T')"
      ]
     },
     "execution_count": 66,
     "metadata": {},
     "output_type": "execute_result"
    },
    {
     "data": {
      "image/png": "[encoded data removed]",
      "text/plain": [
       "<Figure size 432x288 with 1 Axes>"
      ]
     },
     "metadata": {
      "needs_background": "light"
     },
     "output_type": "display_data"
    }
   ],
   "source": [
    "platform_mean_df[\"GAD_T\"].plot(kind = \"bar\")\n",
    "plt.title(\"GAD_T\")"
   ]
  },
  {
   "cell_type": "code",
   "execution_count": 67,
   "metadata": {},
   "outputs": [
    {
     "data": {
      "text/plain": [
       "Text(0.5, 1.0, 'SWL_T')"
      ]
     },
     "execution_count": 67,
     "metadata": {},
     "output_type": "execute_result"
    },
    {
     "data": {
      "image/png": "[encoded data removed]",
      "text/plain": [
       "<Figure size 432x288 with 1 Axes>"
      ]
     },
     "metadata": {
      "needs_background": "light"
     },
     "output_type": "display_data"
    }
   ],
   "source": [
    "platform_mean_df[\"SWL_T\"].plot(kind = \"bar\")\n",
    "plt.title(\"SWL_T\")"
   ]
  },
  {
   "cell_type": "code",
   "execution_count": 68,
   "metadata": {},
   "outputs": [
    {
     "data": {
      "text/plain": [
       "Text(0.5, 1.0, 'SPIN_T')"
      ]
     },
     "execution_count": 68,
     "metadata": {},
     "output_type": "execute_result"
    },
    {
     "data": {
      "image/png": "[encoded data removed]",
      "text/plain": [
       "<Figure size 432x288 with 1 Axes>"
      ]
     },
     "metadata": {
      "needs_background": "light"
     },
     "output_type": "display_data"
    }
   ],
   "source": [
    "platform_mean_df[\"SPIN_T\"].plot(kind = \"bar\")\n",
    "plt.title(\"SPIN_T\")"
   ]
  },
  {
   "cell_type": "code",
   "execution_count": 69,
   "metadata": {},
   "outputs": [
    {
     "data": {
      "text/plain": [
       "Text(0.5, 1.0, 'Narcissism')"
      ]
     },
     "execution_count": 69,
     "metadata": {},
     "output_type": "execute_result"
    },
    {
     "data": {
      "image/png": "[encoded data removed]",
      "text/plain": [
       "<Figure size 432x288 with 1 Axes>"
      ]
     },
     "metadata": {
      "needs_background": "light"
     },
     "output_type": "display_data"
    }
   ],
   "source": [
    "platform_mean_df[\"Narcissism\"].plot(kind = \"bar\")\n",
    "plt.title(\"Narcissism\")"
   ]
  },
  {
   "cell_type": "code",
   "execution_count": 71,
   "metadata": {},
   "outputs": [],
   "source": [
    "# platform_df.loc[platform_df['Platform'] == \"PC\", :].mean().plot(kind = \"bar\")\n",
    "# "
   ]
  },
  {
   "cell_type": "code",
   "execution_count": 70,
   "metadata": {},
   "outputs": [
    {
     "data": {
      "text/plain": [
       "Text(0.5, 1.0, 'Number of Participants per Platform')"
      ]
     },
     "execution_count": 70,
     "metadata": {},
     "output_type": "execute_result"
    },
    {
     "data": {
      "image/png": "[encoded data removed]",
      "text/plain": [
       "<Figure size 432x288 with 1 Axes>"
      ]
     },
     "metadata": {
      "needs_background": "light"
     },
     "output_type": "display_data"
    }
   ],
   "source": [
    "platform_df[\"Platform\"].value_counts().plot(kind = \"bar\")\n",
    "plt.title(\"Number of Participants per Platform\")"
   ]
  }
 ],
 "metadata": {
  "kernelspec": {
   "display_name": "Python 3",
   "language": "python",
   "name": "python3"
  },
  "language_info": {
   "codemirror_mode": {
    "name": "ipython",
    "version": 3
   },
   "file_extension": ".py",
   "mimetype": "text/x-python",
   "name": "python",
   "nbconvert_exporter": "python",
   "pygments_lexer": "ipython3",
   "version": "3.8.5"
  }
 },
 "nbformat": 4,
 "nbformat_minor": 4
}
