{
 "cells": [
  {
   "cell_type": "code",
   "execution_count": 4,
   "metadata": {},
   "outputs": [],
   "source": [
    "# Dependencies\n",
    "import pandas as pd\n",
    "#imports pandas and sets it as pd for easier typing"
   ]
  },
  {
   "cell_type": "code",
   "execution_count": 5,
   "metadata": {},
   "outputs": [
    {
     "data": {
      "text/plain": [
       "0                             UCLA\n",
       "1                      UC Berkeley\n",
       "2                        UC Irvine\n",
       "3    University of Central Florida\n",
       "4               Rutgers University\n",
       "dtype: object"
      ]
     },
     "execution_count": 5,
     "metadata": {},
     "output_type": "execute_result"
    }
   ],
   "source": [
    "# We can create a Pandas Series from a raw list\n",
    "data_series = pd.Series([\"UCLA\", \"UC Berkeley\", \"UC Irvine\",\n",
    "                         \"University of Central Florida\", \"Rutgers University\"])\n",
    "data_series"
   ]
  },
  {
   "cell_type": "code",
   "execution_count": 7,
   "metadata": {},
   "outputs": [
    {
     "data": {
      "text/html": [
       "<div>\n",
       "<style scoped>\n",
       "    .dataframe tbody tr th:only-of-type {\n",
       "        vertical-align: middle;\n",
       "    }\n",
       "\n",
       "    .dataframe tbody tr th {\n",
       "        vertical-align: top;\n",
       "    }\n",
       "\n",
       "    .dataframe thead th {\n",
       "        text-align: right;\n",
       "    }\n",
       "</style>\n",
       "<table border=\"1\" class=\"dataframe\">\n",
       "  <thead>\n",
       "    <tr style=\"text-align: right;\">\n",
       "      <th></th>\n",
       "      <th>STATE</th>\n",
       "      <th>ABBREVIATION</th>\n",
       "    </tr>\n",
       "  </thead>\n",
       "  <tbody>\n",
       "    <tr>\n",
       "      <th>0</th>\n",
       "      <td>New Jersey</td>\n",
       "      <td>NJ</td>\n",
       "    </tr>\n",
       "    <tr>\n",
       "      <th>1</th>\n",
       "      <td>New York</td>\n",
       "      <td>NY</td>\n",
       "    </tr>\n",
       "    <tr>\n",
       "      <th>2</th>\n",
       "      <td>Kansas</td>\n",
       "      <td>KS</td>\n",
       "    </tr>\n",
       "  </tbody>\n",
       "</table>\n",
       "</div>"
      ],
      "text/plain": [
       "        STATE ABBREVIATION\n",
       "0  New Jersey           NJ\n",
       "1    New York           NY\n",
       "2      Kansas           KS"
      ]
     },
     "execution_count": 7,
     "metadata": {},
     "output_type": "execute_result"
    }
   ],
   "source": [
    "#List of dictionaries\n",
    "# Convert a list of dictionaries into a dataframe\n",
    "states_dicts = [{\"STATE\": \"New Jersey\", \"ABBREVIATION\": \"NJ\"},\n",
    "                {\"STATE\": \"New York\", \"ABBREVIATION\": \"NY\"},\n",
    "                {\"STATE\": \"Kansas\", \"ABBREVIATION\": \"KS\"}]\n",
    "#{} indicates dictionaries, [] indicates a list - so this is a list of dictionaries\n",
    "\n",
    "states_df = pd.DataFrame(states_dicts)\n",
    "states_df\n",
    "#pd indicates running in pandas, DataFrame indicates as a Data Frame, (states_dicts) = the list it's pulling from\n",
    "#Bottom states_df runs the states_df command"
   ]
  },
  {
   "cell_type": "code",
   "execution_count": 8,
   "metadata": {},
   "outputs": [
    {
     "data": {
      "text/html": [
       "<div>\n",
       "<style scoped>\n",
       "    .dataframe tbody tr th:only-of-type {\n",
       "        vertical-align: middle;\n",
       "    }\n",
       "\n",
       "    .dataframe tbody tr th {\n",
       "        vertical-align: top;\n",
       "    }\n",
       "\n",
       "    .dataframe thead th {\n",
       "        text-align: right;\n",
       "    }\n",
       "</style>\n",
       "<table border=\"1\" class=\"dataframe\">\n",
       "  <thead>\n",
       "    <tr style=\"text-align: right;\">\n",
       "      <th></th>\n",
       "      <th>Dynasty</th>\n",
       "      <th>Pharaoh</th>\n",
       "    </tr>\n",
       "  </thead>\n",
       "  <tbody>\n",
       "    <tr>\n",
       "      <th>0</th>\n",
       "      <td>Early Dynastic Period</td>\n",
       "      <td>Thinis</td>\n",
       "    </tr>\n",
       "    <tr>\n",
       "      <th>1</th>\n",
       "      <td>Old Kingdom</td>\n",
       "      <td>Memphis</td>\n",
       "    </tr>\n",
       "  </tbody>\n",
       "</table>\n",
       "</div>"
      ],
      "text/plain": [
       "                 Dynasty  Pharaoh\n",
       "0  Early Dynastic Period   Thinis\n",
       "1            Old Kingdom  Memphis"
      ]
     },
     "execution_count": 8,
     "metadata": {},
     "output_type": "execute_result"
    }
   ],
   "source": [
    "#Dictionary of lists\n",
    "# Convert a single dictionary containing lists into a dataframe\n",
    "pharaoh_df = pd.DataFrame(\n",
    "    {\"Dynasty\": [\"Early Dynastic Period\", \"Old Kingdom\"],\n",
    "     \"Pharaoh\": [\"Thinis\", \"Memphis\"]\n",
    "     }\n",
    ")\n",
    "#Each key (Dynasty and Pharaoh) indicate a column header - the lists within the keys (in the dictionary) is the input for the table\n",
    "\n",
    "pharaoh_df"
   ]
  },
  {
   "cell_type": "code",
   "execution_count": null,
   "metadata": {},
   "outputs": [],
   "source": []
  }
 ],
 "metadata": {
  "anaconda-cloud": {},
  "kernel_info": {
   "name": "python3"
  },
  "kernelspec": {
   "display_name": "Python 3",
   "language": "python",
   "name": "python3"
  },
  "language_info": {
   "codemirror_mode": {
    "name": "ipython",
    "version": 3
   },
   "file_extension": ".py",
   "mimetype": "text/x-python",
   "name": "python",
   "nbconvert_exporter": "python",
   "pygments_lexer": "ipython3",
   "version": "3.8.5"
  },
  "nteract": {
   "version": "0.2.0"
  }
 },
 "nbformat": 4,
 "nbformat_minor": 2
}
