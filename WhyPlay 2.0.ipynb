{
 "cells": [
  {
   "cell_type": "code",
   "execution_count": 1,
   "metadata": {
    "tags": [
     "Dependencies"
    ]
   },
   "outputs": [],
   "source": [
    "#Dependencies\n",
    "import matplotlib.pyplot as plt\n",
    "import pandas as pd\n",
    "import scipy.stats as st\n",
    "import numpy as np\n",
    "from scipy.stats import linregress"
   ]
  },
  {
   "cell_type": "code",
   "execution_count": 2,
   "metadata": {},
   "outputs": [
    {
     "data": {
      "text/html": [
       "<div>\n",
       "<style scoped>\n",
       "    .dataframe tbody tr th:only-of-type {\n",
       "        vertical-align: middle;\n",
       "    }\n",
       "\n",
       "    .dataframe tbody tr th {\n",
       "        vertical-align: top;\n",
       "    }\n",
       "\n",
       "    .dataframe thead th {\n",
       "        text-align: right;\n",
       "    }\n",
       "</style>\n",
       "<table border=\"1\" class=\"dataframe\">\n",
       "  <thead>\n",
       "    <tr style=\"text-align: right;\">\n",
       "      <th></th>\n",
       "      <th>S. No.</th>\n",
       "      <th>Game</th>\n",
       "      <th>Hours</th>\n",
       "      <th>whyplay</th>\n",
       "      <th>Gender</th>\n",
       "      <th>Age</th>\n",
       "      <th>Work</th>\n",
       "      <th>Degree</th>\n",
       "      <th>Residence</th>\n",
       "      <th>Playstyle</th>\n",
       "      <th>Narcissism</th>\n",
       "      <th>GAD_T</th>\n",
       "      <th>SWL_T</th>\n",
       "      <th>SPIN_T</th>\n",
       "    </tr>\n",
       "  </thead>\n",
       "  <tbody>\n",
       "    <tr>\n",
       "      <th>0</th>\n",
       "      <td>8766</td>\n",
       "      <td>League of Legends</td>\n",
       "      <td>20.0</td>\n",
       "      <td>All of the Above</td>\n",
       "      <td>Male</td>\n",
       "      <td>18</td>\n",
       "      <td>Student at school</td>\n",
       "      <td>High school diploma (or equivalent)</td>\n",
       "      <td>Netherlands</td>\n",
       "      <td>Multiplayer - online - with online acquaintanc...</td>\n",
       "      <td>2.0</td>\n",
       "      <td>11</td>\n",
       "      <td>11</td>\n",
       "      <td>25.0</td>\n",
       "    </tr>\n",
       "    <tr>\n",
       "      <th>1</th>\n",
       "      <td>3519</td>\n",
       "      <td>League of Legends</td>\n",
       "      <td>30.0</td>\n",
       "      <td>All of the Above</td>\n",
       "      <td>Male</td>\n",
       "      <td>20</td>\n",
       "      <td>Student at college / university</td>\n",
       "      <td>Bachelor (or equivalent)</td>\n",
       "      <td>USA</td>\n",
       "      <td>Multiplayer - online - with online acquaintanc...</td>\n",
       "      <td>4.0</td>\n",
       "      <td>4</td>\n",
       "      <td>26</td>\n",
       "      <td>5.0</td>\n",
       "    </tr>\n",
       "    <tr>\n",
       "      <th>2</th>\n",
       "      <td>6263</td>\n",
       "      <td>League of Legends</td>\n",
       "      <td>15.0</td>\n",
       "      <td>All of the Above</td>\n",
       "      <td>Male</td>\n",
       "      <td>26</td>\n",
       "      <td>Employed</td>\n",
       "      <td>Bachelor (or equivalent)</td>\n",
       "      <td>USA</td>\n",
       "      <td>Multiplayer - online - with real life friends</td>\n",
       "      <td>1.0</td>\n",
       "      <td>4</td>\n",
       "      <td>16</td>\n",
       "      <td>18.0</td>\n",
       "    </tr>\n",
       "    <tr>\n",
       "      <th>3</th>\n",
       "      <td>1915</td>\n",
       "      <td>League of Legends</td>\n",
       "      <td>10.0</td>\n",
       "      <td>All of the Above</td>\n",
       "      <td>Male</td>\n",
       "      <td>24</td>\n",
       "      <td>Student at college / university</td>\n",
       "      <td>High school diploma (or equivalent)</td>\n",
       "      <td>UK</td>\n",
       "      <td>Multiplayer - online - with real life friends</td>\n",
       "      <td>1.0</td>\n",
       "      <td>2</td>\n",
       "      <td>16</td>\n",
       "      <td>6.0</td>\n",
       "    </tr>\n",
       "    <tr>\n",
       "      <th>4</th>\n",
       "      <td>10157</td>\n",
       "      <td>Other</td>\n",
       "      <td>35.0</td>\n",
       "      <td>All of the Above</td>\n",
       "      <td>Male</td>\n",
       "      <td>25</td>\n",
       "      <td>Student at college / university</td>\n",
       "      <td>Bachelor (or equivalent)</td>\n",
       "      <td>Germany</td>\n",
       "      <td>Multiplayer - online - with real life friends</td>\n",
       "      <td>1.0</td>\n",
       "      <td>2</td>\n",
       "      <td>18</td>\n",
       "      <td>33.0</td>\n",
       "    </tr>\n",
       "  </tbody>\n",
       "</table>\n",
       "</div>"
      ],
      "text/plain": [
       "   S. No.               Game  Hours           whyplay Gender  Age  \\\n",
       "0    8766  League of Legends   20.0  All of the Above   Male   18   \n",
       "1    3519  League of Legends   30.0  All of the Above   Male   20   \n",
       "2    6263  League of Legends   15.0  All of the Above   Male   26   \n",
       "3    1915  League of Legends   10.0  All of the Above   Male   24   \n",
       "4   10157              Other   35.0  All of the Above   Male   25   \n",
       "\n",
       "                              Work                               Degree  \\\n",
       "0                Student at school  High school diploma (or equivalent)   \n",
       "1  Student at college / university             Bachelor (or equivalent)   \n",
       "2                         Employed             Bachelor (or equivalent)   \n",
       "3  Student at college / university  High school diploma (or equivalent)   \n",
       "4  Student at college / university             Bachelor (or equivalent)   \n",
       "\n",
       "     Residence                                          Playstyle  Narcissism  \\\n",
       "0  Netherlands  Multiplayer - online - with online acquaintanc...         2.0   \n",
       "1          USA  Multiplayer - online - with online acquaintanc...         4.0   \n",
       "2          USA      Multiplayer - online - with real life friends         1.0   \n",
       "3           UK      Multiplayer - online - with real life friends         1.0   \n",
       "4      Germany      Multiplayer - online - with real life friends         1.0   \n",
       "\n",
       "   GAD_T  SWL_T  SPIN_T  \n",
       "0     11     11    25.0  \n",
       "1      4     26     5.0  \n",
       "2      4     16    18.0  \n",
       "3      2     16     6.0  \n",
       "4      2     18    33.0  "
      ]
     },
     "execution_count": 2,
     "metadata": {},
     "output_type": "execute_result"
    }
   ],
   "source": [
    "file = \"GamingStudy_data.csv\"\n",
    "dataset = pd.read_csv(file, encoding=\"ISO-8859-1\")\n",
    "whyplay_df = dataset[[\"S. No.\", \"Game\", \"Hours\", \"whyplay\", \"Gender\", \"Age\", \"Work\",\n",
    "\"Degree\", \"Residence\", \"Playstyle\",\"Narcissism\", \"GAD_T\", \"SWL_T\", \"SPIN_T\"]]\n",
    "whyplay_df.head()"
   ]
  },
  {
   "cell_type": "code",
   "execution_count": 3,
   "metadata": {
    "tags": [
     "Define",
     "count"
    ]
   },
   "outputs": [],
   "source": [
    "totalCount = len(whyplay_df['whyplay'])\n",
    "totalwhyCount = whyplay_df['whyplay'].value_counts()\n",
    "rel_count = len(whyplay_df.loc[whyplay_df['whyplay'] == \"Relaxing\"])\n",
    "imp_count = len(whyplay_df.loc[whyplay_df['whyplay'] == \"Improving\"])\n",
    "win_count = len(whyplay_df.loc[whyplay_df['whyplay'] == \"Winning\"])\n",
    "fun_count = len(whyplay_df.loc[whyplay_df['whyplay'] == \"Having Fun\"])\n",
    "all_count = len(whyplay_df.loc[whyplay_df['whyplay'] == \"All of the Above\"])\n",
    "other_count = len(whyplay_df.loc[whyplay_df['whyplay'] == \"Other\"])"
   ]
  },
  {
   "cell_type": "code",
   "execution_count": 4,
   "metadata": {
    "tags": [
     "Define",
     "df"
    ]
   },
   "outputs": [],
   "source": [
    "rel_df = whyplay_df.loc[whyplay_df['whyplay'] == \"Relaxing\"]\n",
    "imp_df = whyplay_df.loc[whyplay_df['whyplay'] == \"Improving\"]\n",
    "win_df = whyplay_df.loc[whyplay_df['whyplay'] == \"Winning\"]\n",
    "fun_df = whyplay_df.loc[whyplay_df['whyplay'] == \"Having Fun\"]\n",
    "all_df = whyplay_df.loc[whyplay_df['whyplay'] == \"All of the Above\"]\n",
    "oth_df = whyplay_df.loc[whyplay_df['whyplay'] == \"Other\"]"
   ]
  },
  {
   "cell_type": "code",
   "execution_count": 5,
   "metadata": {
    "tags": [
     "Define",
     "df"
    ]
   },
   "outputs": [],
   "source": [
    "GAD_df = whyplay_df.loc[whyplay_df['GAD_T'] > 9]\n",
    "SWL_df = whyplay_df.loc[whyplay_df['SWL_T'] < 20]\n",
    "SPIN_df = whyplay_df.loc[whyplay_df['SPIN_T'] > 19]"
   ]
  },
  {
   "cell_type": "code",
   "execution_count": 6,
   "metadata": {
    "tags": [
     "Define",
     "%"
    ]
   },
   "outputs": [
    {
     "name": "stdout",
     "output_type": "stream",
     "text": [
      "Total GAD Count: 1562 (17.54%)\n",
      "Total SWL Count: 4150 (46.6%)\n",
      "Total SPIN Count: 3661 (41.11%)\n"
     ]
    }
   ],
   "source": [
    "GAD_Count = len(GAD_df['S. No.'])\n",
    "G_Percent = round(GAD_Count / totalCount * 100,2)\n",
    "SWL_Count = len(SWL_df['S. No.'])\n",
    "SW_Percent = round(SWL_Count / totalCount * 100,2)\n",
    "SPIN_Count = len(SPIN_df['S. No.'])\n",
    "SP_Percent = round(SPIN_Count / totalCount * 100,2)\n",
    "print(f\"Total GAD Count: {GAD_Count} ({G_Percent}%)\")\n",
    "print(f\"Total SWL Count: {SWL_Count} ({SW_Percent}%)\")\n",
    "print(f\"Total SPIN Count: {SPIN_Count} ({SP_Percent}%)\")"
   ]
  },
  {
   "cell_type": "code",
   "execution_count": 7,
   "metadata": {
    "tags": [
     "Relax"
    ]
   },
   "outputs": [],
   "source": [
    "rGAD_df = rel_df.loc[rel_df['GAD_T'] > 9]\n",
    "rSWL_df = rel_df.loc[rel_df['SWL_T'] < 20]\n",
    "rSPIN_df = rel_df.loc[rel_df['SPIN_T'] > 19]"
   ]
  },
  {
   "cell_type": "code",
   "execution_count": 8,
   "metadata": {
    "tags": [
     "Relax"
    ]
   },
   "outputs": [],
   "source": [
    "rGAD_Count = len(rGAD_df['S. No.'])\n",
    "rG_Percent = round(rGAD_Count / rel_count * 100,2)\n",
    "rSWL_Count = len(rSWL_df['S. No.'])\n",
    "rSW_Percent = round(rSWL_Count / rel_count * 100,2)\n",
    "rSPIN_Count = len(rSPIN_df['S. No.'])\n",
    "rSP_Percent = round(rSPIN_Count / rel_count * 100,2)"
   ]
  },
  {
   "cell_type": "code",
   "execution_count": 9,
   "metadata": {
    "tags": [
     "Relax"
    ]
   },
   "outputs": [
    {
     "name": "stdout",
     "output_type": "stream",
     "text": [
      "Total GAD Count: 104 (24.3%)\n",
      "Total SWL Count: 233 (54.44%)\n",
      "Total SPIN Count: 188 (43.93%)\n"
     ]
    }
   ],
   "source": [
    "print(f\"Total GAD Count: {rGAD_Count} ({rG_Percent}%)\")\n",
    "print(f\"Total SWL Count: {rSWL_Count} ({rSW_Percent}%)\")\n",
    "print(f\"Total SPIN Count: {rSPIN_Count} ({rSP_Percent}%)\")"
   ]
  },
  {
   "cell_type": "code",
   "execution_count": 10,
   "metadata": {
    "tags": [
     "Improve"
    ]
   },
   "outputs": [],
   "source": [
    "iGAD_df = imp_df.loc[imp_df['GAD_T'] > 9]\n",
    "iSWL_df = imp_df.loc[imp_df['SWL_T'] < 20]\n",
    "iSPIN_df = imp_df.loc[imp_df['SPIN_T'] > 19]"
   ]
  },
  {
   "cell_type": "code",
   "execution_count": 11,
   "metadata": {
    "tags": [
     "Improve"
    ]
   },
   "outputs": [],
   "source": [
    "iGAD_Count = len(iGAD_df['S. No.'])\n",
    "iG_Percent = round(iGAD_Count / imp_count * 100,2)\n",
    "iSWL_Count = len(iSWL_df['S. No.'])\n",
    "iSW_Percent = round(iSWL_Count / imp_count * 100,2)\n",
    "iSPIN_Count = len(iSPIN_df['S. No.'])\n",
    "iSP_Percent = round(iSPIN_Count / imp_count * 100,2)"
   ]
  },
  {
   "cell_type": "code",
   "execution_count": 12,
   "metadata": {
    "tags": [
     "Improve"
    ]
   },
   "outputs": [
    {
     "name": "stdout",
     "output_type": "stream",
     "text": [
      "Total GAD Count: 568 (17.46%)\n",
      "Total SWL Count: 1542 (47.39%)\n",
      "Total SPIN Count: 1324 (40.69%)\n"
     ]
    }
   ],
   "source": [
    "print(f\"Total GAD Count: {iGAD_Count} ({iG_Percent}%)\")\n",
    "print(f\"Total SWL Count: {iSWL_Count} ({iSW_Percent}%)\")\n",
    "print(f\"Total SPIN Count: {iSPIN_Count} ({iSP_Percent}%)\")"
   ]
  },
  {
   "cell_type": "code",
   "execution_count": 13,
   "metadata": {
    "tags": [
     "Win"
    ]
   },
   "outputs": [],
   "source": [
    "wGAD_df = win_df.loc[win_df['GAD_T'] > 9]\n",
    "wSWL_df = win_df.loc[win_df['SWL_T'] < 20]\n",
    "wSPIN_df = win_df.loc[win_df['SPIN_T'] > 19]"
   ]
  },
  {
   "cell_type": "code",
   "execution_count": 14,
   "metadata": {
    "tags": [
     "Win"
    ]
   },
   "outputs": [],
   "source": [
    "wGAD_Count = len(wGAD_df['S. No.'])\n",
    "wG_Percent = round(wGAD_Count / win_count * 100,2)\n",
    "wSWL_Count = len(wSWL_df['S. No.'])\n",
    "wSW_Percent = round(wSWL_Count / win_count * 100,2)\n",
    "wSPIN_Count = len(wSPIN_df['S. No.'])\n",
    "wSP_Percent = round(wSPIN_Count / win_count * 100,2)"
   ]
  },
  {
   "cell_type": "code",
   "execution_count": 15,
   "metadata": {
    "tags": [
     "Win"
    ]
   },
   "outputs": [
    {
     "name": "stdout",
     "output_type": "stream",
     "text": [
      "Total GAD Count: 337 (23.19%)\n",
      "Total SWL Count: 800 (55.06%)\n",
      "Total SPIN Count: 665 (45.77%)\n"
     ]
    }
   ],
   "source": [
    "print(f\"Total GAD Count: {wGAD_Count} ({wG_Percent}%)\")\n",
    "print(f\"Total SWL Count: {wSWL_Count} ({wSW_Percent}%)\")\n",
    "print(f\"Total SPIN Count: {wSPIN_Count} ({wSP_Percent}%)\")"
   ]
  },
  {
   "cell_type": "code",
   "execution_count": 16,
   "metadata": {
    "tags": [
     "Fun"
    ]
   },
   "outputs": [],
   "source": [
    "fGAD_df = fun_df.loc[fun_df['GAD_T'] > 9]\n",
    "fSWL_df = fun_df.loc[fun_df['SWL_T'] < 20]\n",
    "fSPIN_df = fun_df.loc[fun_df['SPIN_T'] > 19]"
   ]
  },
  {
   "cell_type": "code",
   "execution_count": 17,
   "metadata": {
    "tags": [
     "Fun"
    ]
   },
   "outputs": [],
   "source": [
    "fGAD_Count = len(fGAD_df['S. No.'])\n",
    "fG_Percent = round(fGAD_Count / fun_count * 100,2)\n",
    "fSWL_Count = len(fSWL_df['S. No.'])\n",
    "fSW_Percent = round(fSWL_Count / fun_count * 100,2)\n",
    "fSPIN_Count = len(fSPIN_df['S. No.'])\n",
    "fSP_Percent = round(fSPIN_Count / fun_count * 100,2)"
   ]
  },
  {
   "cell_type": "code",
   "execution_count": 18,
   "metadata": {
    "tags": [
     "Fun"
    ]
   },
   "outputs": [
    {
     "name": "stdout",
     "output_type": "stream",
     "text": [
      "Total GAD Count: 497 (13.92%)\n",
      "Total SWL Count: 1468 (41.11%)\n",
      "Total SPIN Count: 1397 (39.12%)\n"
     ]
    }
   ],
   "source": [
    "print(f\"Total GAD Count: {fGAD_Count} ({fG_Percent}%)\")\n",
    "print(f\"Total SWL Count: {fSWL_Count} ({fSW_Percent}%)\")\n",
    "print(f\"Total SPIN Count: {fSPIN_Count} ({fSP_Percent}%)\")"
   ]
  },
  {
   "cell_type": "code",
   "execution_count": 19,
   "metadata": {
    "tags": [
     "All"
    ]
   },
   "outputs": [],
   "source": [
    "aGAD_df = all_df.loc[all_df['GAD_T'] > 9]\n",
    "aSWL_df = all_df.loc[all_df['SWL_T'] < 20]\n",
    "aSPIN_df = all_df.loc[all_df['SPIN_T'] > 19]"
   ]
  },
  {
   "cell_type": "code",
   "execution_count": 20,
   "metadata": {
    "tags": [
     "All"
    ]
   },
   "outputs": [],
   "source": [
    "aGAD_Count = len(aGAD_df['S. No.'])\n",
    "aG_Percent = round(aGAD_Count / all_count * 100,2)\n",
    "aSWL_Count = len(aSWL_df['S. No.'])\n",
    "aSW_Percent = round(aSWL_Count / all_count * 100,2)\n",
    "aSPIN_Count = len(aSPIN_df['S. No.'])\n",
    "aSP_Percent = round(aSPIN_Count / all_count * 100,2)"
   ]
  },
  {
   "cell_type": "code",
   "execution_count": 21,
   "metadata": {
    "tags": [
     "All"
    ]
   },
   "outputs": [
    {
     "name": "stdout",
     "output_type": "stream",
     "text": [
      "Total GAD Count: 12 (16.22%)\n",
      "Total SWL Count: 29 (39.19%)\n",
      "Total SPIN Count: 25 (33.78%)\n"
     ]
    }
   ],
   "source": [
    "print(f\"Total GAD Count: {aGAD_Count} ({aG_Percent}%)\")\n",
    "print(f\"Total SWL Count: {aSWL_Count} ({aSW_Percent}%)\")\n",
    "print(f\"Total SPIN Count: {aSPIN_Count} ({aSP_Percent}%)\")"
   ]
  },
  {
   "cell_type": "code",
   "execution_count": 22,
   "metadata": {
    "tags": [
     "Other"
    ]
   },
   "outputs": [],
   "source": [
    "oGAD_df = oth_df.loc[oth_df['GAD_T'] > 9]\n",
    "oSWL_df = oth_df.loc[oth_df['SWL_T'] < 20]\n",
    "oSPIN_df = oth_df.loc[oth_df['SPIN_T'] > 19]"
   ]
  },
  {
   "cell_type": "code",
   "execution_count": 23,
   "metadata": {
    "tags": [
     "Other"
    ]
   },
   "outputs": [],
   "source": [
    "oGAD_Count = len(oGAD_df['S. No.'])\n",
    "oG_Percent = round(oGAD_Count / other_count * 100,2)\n",
    "oSWL_Count = len(oSWL_df['S. No.'])\n",
    "oSW_Percent = round(oSWL_Count / other_count * 100,2)\n",
    "oSPIN_Count = len(oSPIN_df['S. No.'])\n",
    "oSP_Percent = round(oSPIN_Count / other_count * 100,2)"
   ]
  },
  {
   "cell_type": "code",
   "execution_count": 24,
   "metadata": {
    "tags": [
     "Other"
    ]
   },
   "outputs": [
    {
     "name": "stdout",
     "output_type": "stream",
     "text": [
      "Total GAD Count: 44 (35.48%)\n",
      "Total SWL Count: 78 (62.9%)\n",
      "Total SPIN Count: 62 (50.0%)\n"
     ]
    }
   ],
   "source": [
    "print(f\"Total GAD Count: {oGAD_Count} ({oG_Percent}%)\")\n",
    "print(f\"Total SWL Count: {oSWL_Count} ({oSW_Percent}%)\")\n",
    "print(f\"Total SPIN Count: {oSPIN_Count} ({oSP_Percent}%)\")"
   ]
  },
  {
   "cell_type": "code",
   "execution_count": 25,
   "metadata": {},
   "outputs": [
    {
     "name": "stdout",
     "output_type": "stream",
     "text": [
      "All of the Above GAD Count: 12 (16.22%)\n",
      "All of the Above SWL Count: 29 (39.19%)\n",
      "All of the Above SPIN Count: 25 (33.78%)\n"
     ]
    }
   ],
   "source": [
    "print(f\"All of the Above GAD Count: {aGAD_Count} ({aG_Percent}%)\")\n",
    "print(f\"All of the Above SWL Count: {aSWL_Count} ({aSW_Percent}%)\")\n",
    "print(f\"All of the Above SPIN Count: {aSPIN_Count} ({aSP_Percent}%)\")"
   ]
  },
  {
   "cell_type": "code",
   "execution_count": 26,
   "metadata": {},
   "outputs": [
    {
     "name": "stdout",
     "output_type": "stream",
     "text": [
      "Improve GAD Count: 568 (17.46%)\n",
      "Improve SWL Count: 1542 (47.39%)\n",
      "Improve SPIN Count: 1324 (40.69%)\n"
     ]
    }
   ],
   "source": [
    "print(f\"Improve GAD Count: {iGAD_Count} ({iG_Percent}%)\")\n",
    "print(f\"Improve SWL Count: {iSWL_Count} ({iSW_Percent}%)\")\n",
    "print(f\"Improve SPIN Count: {iSPIN_Count} ({iSP_Percent}%)\")"
   ]
  },
  {
   "cell_type": "code",
   "execution_count": 27,
   "metadata": {},
   "outputs": [
    {
     "name": "stdout",
     "output_type": "stream",
     "text": [
      "Relax GAD Count: 104 (24.3%)\n",
      "Relax SWL Count: 233 (54.44%)\n",
      "Relax SPIN Count: 188 (43.93%)\n"
     ]
    }
   ],
   "source": [
    "print(f\"Relax GAD Count: {rGAD_Count} ({rG_Percent}%)\")\n",
    "print(f\"Relax SWL Count: {rSWL_Count} ({rSW_Percent}%)\")\n",
    "print(f\"Relax SPIN Count: {rSPIN_Count} ({rSP_Percent}%)\")"
   ]
  },
  {
   "cell_type": "code",
   "execution_count": 28,
   "metadata": {},
   "outputs": [
    {
     "name": "stdout",
     "output_type": "stream",
     "text": [
      "Winning GAD Count: 337 (23.19%)\n",
      "Winning SWL Count: 800 (55.06%)\n",
      "Winning SPIN Count: 665 (45.77%)\n"
     ]
    }
   ],
   "source": [
    "print(f\"Winning GAD Count: {wGAD_Count} ({wG_Percent}%)\")\n",
    "print(f\"Winning SWL Count: {wSWL_Count} ({wSW_Percent}%)\")\n",
    "print(f\"Winning SPIN Count: {wSPIN_Count} ({wSP_Percent}%)\")"
   ]
  },
  {
   "cell_type": "code",
   "execution_count": 29,
   "metadata": {},
   "outputs": [
    {
     "name": "stdout",
     "output_type": "stream",
     "text": [
      "Fun GAD Count: 497 (13.92%)\n",
      "Fun SWL Count: 1468 (41.11%)\n",
      "Fun SPIN Count: 1397 (39.12%)\n"
     ]
    }
   ],
   "source": [
    "print(f\"Fun GAD Count: {fGAD_Count} ({fG_Percent}%)\")\n",
    "print(f\"Fun SWL Count: {fSWL_Count} ({fSW_Percent}%)\")\n",
    "print(f\"Fun SPIN Count: {fSPIN_Count} ({fSP_Percent}%)\")"
   ]
  },
  {
   "cell_type": "code",
   "execution_count": 30,
   "metadata": {},
   "outputs": [
    {
     "name": "stdout",
     "output_type": "stream",
     "text": [
      "Other GAD Count: 44 (35.48%)\n",
      "Other SWL Count: 78 (62.9%)\n",
      "Other SPIN Count: 62 (50.0%)\n"
     ]
    }
   ],
   "source": [
    "print(f\"Other GAD Count: {oGAD_Count} ({oG_Percent}%)\")\n",
    "print(f\"Other SWL Count: {oSWL_Count} ({oSW_Percent}%)\")\n",
    "print(f\"Other SPIN Count: {oSPIN_Count} ({oSP_Percent}%)\")"
   ]
  },
  {
   "cell_type": "code",
   "execution_count": null,
   "metadata": {},
   "outputs": [],
   "source": []
  }
 ],
 "metadata": {
  "celltoolbar": "Tags",
  "kernelspec": {
   "display_name": "Python 3",
   "language": "python",
   "name": "python3"
  },
  "language_info": {
   "codemirror_mode": {
    "name": "ipython",
    "version": 3
   },
   "file_extension": ".py",
   "mimetype": "text/x-python",
   "name": "python",
   "nbconvert_exporter": "python",
   "pygments_lexer": "ipython3",
   "version": "3.8.5"
  }
 },
 "nbformat": 4,
 "nbformat_minor": 4
}
